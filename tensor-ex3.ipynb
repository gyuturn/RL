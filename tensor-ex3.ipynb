{
 "cells": [
  {
   "cell_type": "code",
   "execution_count": 2,
   "metadata": {},
   "outputs": [
    {
     "name": "stdout",
     "output_type": "stream",
     "text": [
      "26\n"
     ]
    }
   ],
   "source": [
    "import tensorflow as tf\n",
    "\n",
    "with tf.name_scope(\"Computation\"):\n",
    "    with tf.name_scope(\"Part1\"):\n",
    "        a = tf.constant(5)\n",
    "        b = tf.constant(4)\n",
    "        c= tf.multiply(a,b)\n",
    "    with tf.name_scope(\"Part2\"):\n",
    "        d = tf.constant(2)\n",
    "        e = tf.constant(3)\n",
    "        f = tf.multiply(d,e)\n",
    "\n",
    "with tf.name_scope(\"Result\"):\n",
    "    g = tf.add(c,f)\n",
    "\n",
    "\n",
    "with tf.Session() as sess:\n",
    "    writer = tf.summary.FileWriter(\"logs\",sess.graph)\n",
    "    print(sess.run(g))\n",
    "    writer.close"
   ]
  },
  {
   "cell_type": "code",
   "execution_count": null,
   "metadata": {},
   "outputs": [],
   "source": []
  }
 ],
 "metadata": {
  "kernelspec": {
   "display_name": "Python 3",
   "language": "python",
   "name": "python3"
  },
  "language_info": {
   "codemirror_mode": {
    "name": "ipython",
    "version": 3
   },
   "file_extension": ".py",
   "mimetype": "text/x-python",
   "name": "python",
   "nbconvert_exporter": "python",
   "pygments_lexer": "ipython3",
   "version": "3.5.2"
  }
 },
 "nbformat": 4,
 "nbformat_minor": 2
}
