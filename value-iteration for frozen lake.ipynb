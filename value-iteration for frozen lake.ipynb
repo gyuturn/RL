{
 "cells": [
  {
   "cell_type": "code",
   "execution_count": 16,
   "metadata": {},
   "outputs": [],
   "source": [
    "import gym\n",
    "import numpy as np\n",
    "from IPython import display\n",
    "import matplotlib.pyplot as plt\n",
    "import time\n",
    "%matplotlib inline"
   ]
  },
  {
   "cell_type": "code",
   "execution_count": 17,
   "metadata": {},
   "outputs": [
    {
     "name": "stdout",
     "output_type": "stream",
     "text": [
      "<FrozenLakeEnv<FrozenLake-v0>>\n"
     ]
    }
   ],
   "source": [
    "env = gym.make('FrozenLake-v0')\n",
    "env = env.unwrapped\n",
    "print(env)"
   ]
  },
  {
   "cell_type": "code",
   "execution_count": 18,
   "metadata": {},
   "outputs": [
    {
     "name": "stdout",
     "output_type": "stream",
     "text": [
      "number of states:  16\n",
      "number of actions:  4\n"
     ]
    }
   ],
   "source": [
    "print(\"number of states: \", env.observation_space.n)\n",
    "print(\"number of actions: \", env.action_space.n)"
   ]
  },
  {
   "cell_type": "code",
   "execution_count": 19,
   "metadata": {},
   "outputs": [
    {
     "name": "stdout",
     "output_type": "stream",
     "text": [
      "\n",
      "\u001b[41mS\u001b[0mFFF\n",
      "FHFH\n",
      "FFFH\n",
      "HFFG\n"
     ]
    }
   ],
   "source": [
    "env.render()"
   ]
  },
  {
   "cell_type": "code",
   "execution_count": 20,
   "metadata": {},
   "outputs": [],
   "source": [
    "def value_iteration(env, gamma = 1.0):\n",
    "    # 초기 value table 0으로 초기화\n",
    "    value_table = np.zeros(env.observation_space.n)\n",
    "    \n",
    "    # 반복횟수와 threshold 설정\n",
    "    no_of_iterations = 10000\n",
    "    threshold = 1e-20\n",
    "    \n",
    "    for i in range(no_of_iterations):\n",
    "        \n",
    "        # 각 반복에 대해서 value table 업데이트\n",
    "        updated_value_table = np.copy(value_table)\n",
    "        \n",
    "        # 각 action에 대해 Q value 계산 \n",
    "        # value of state를 업데이트 Q value가 maxximum할때\n",
    "        \n",
    "        for state in range(env.observation_space.n):\n",
    "            # 현재 state에 대한 Q -> Q_value= [Q(s,a1), Q(s,a2)...]\n",
    "            Q_value = []\n",
    "            \n",
    "            for action in range(env.action_space.n):\n",
    "                # Q value(각 action에 대한) nest_states_rewards = [rewards(s,a1,s2), rewards(s,a1,s3),...]\n",
    "                next_states_rewards=[]\n",
    "                \n",
    "                for next_sr in env.P[state][action]:\n",
    "                    trans_prob, next_state, reward_prob, _ = next_sr\n",
    "                    next_states_rewards.append((trans_prob*(reward_prob+gamma*updated_value_table[next_state])))\n",
    "                    \n",
    "                Q_value.append(np.sum(next_states_rewards))\n",
    "            \n",
    "            value_table[state] = max(Q_value)\n",
    "            \n",
    "        if(np.sum(np.fabs(updated_value_table - value_table))<= threshold):\n",
    "            print('Value-iteration converged at iteration# %d.'%(i+1))\n",
    "            break\n",
    "            \n",
    "    return value_table\n",
    "                "
   ]
  },
  {
   "cell_type": "code",
   "execution_count": 21,
   "metadata": {},
   "outputs": [],
   "source": [
    "def extract_policy(value_table, gamma = 1.0):\n",
    "    \n",
    "    # 초기 policy 설정\n",
    "    policy = np.zeros(env.observation_space.n, np.int32)\n",
    "    \n",
    "    for state in range(env.observation_space.n):\n",
    "        \n",
    "        # Q table 초기화\n",
    "        Q_table = np.zeros(env.action_space.n)\n",
    "        \n",
    "        #Q value 계산 (모든 state에 대해서)\n",
    "        for action in range(env.action_space.n):\n",
    "            for next_sr in env.P[state][action]:\n",
    "                trans_prob, next_state, reward_prob, _ = next_sr\n",
    "                Q_table[action] += (trans_prob*(reward_prob+gamma*value_table[next_state]))\n",
    "                \n",
    "        # Maximum Q value 선택 (최적의 state에서)\n",
    "        policy[state] = np.argmax(Q_table)\n",
    "    \n",
    "    return policy"
   ]
  },
  {
   "cell_type": "code",
   "execution_count": 22,
   "metadata": {},
   "outputs": [],
   "source": [
    "def play(env, optimal_policy, max_step=1000):\n",
    "    state = 0\n",
    "    for i in range(max_step):\n",
    "        env.render()\n",
    "        time.sleep(1)\n",
    "        display.clear_output(wait=True)\n",
    "        display.display(plt.gcf())\n",
    "        state, _, done, _ = env.step(optimal_policy[state])\n",
    "        \n",
    "        if done:\n",
    "            env.render()\n",
    "            break;"
   ]
  },
  {
   "cell_type": "code",
   "execution_count": 23,
   "metadata": {},
   "outputs": [
    {
     "name": "stdout",
     "output_type": "stream",
     "text": [
      "Value-iteration converged at iteration# 1373.\n"
     ]
    }
   ],
   "source": [
    "optimal_value_function = value_iteration(env=env, gamma=1.0)"
   ]
  },
  {
   "cell_type": "code",
   "execution_count": 24,
   "metadata": {},
   "outputs": [],
   "source": [
    "optimal_policy = extract_policy(optimal_value_function, gamma=1.0)"
   ]
  },
  {
   "cell_type": "code",
   "execution_count": 25,
   "metadata": {},
   "outputs": [
    {
     "name": "stdout",
     "output_type": "stream",
     "text": [
      "[0 3 3 3 0 0 0 0 3 1 0 0 0 2 1 0]\n"
     ]
    }
   ],
   "source": [
    "print(optimal_policy)"
   ]
  },
  {
   "cell_type": "code",
   "execution_count": 26,
   "metadata": {},
   "outputs": [
    {
     "data": {
      "text/plain": [
       "<matplotlib.figure.Figure at 0x405d37c940>"
      ]
     },
     "metadata": {},
     "output_type": "display_data"
    },
    {
     "name": "stdout",
     "output_type": "stream",
     "text": [
      "  (Down)\n",
      "SFFF\n",
      "FHFH\n",
      "FFFH\n",
      "HFF\u001b[41mG\u001b[0m\n"
     ]
    },
    {
     "data": {
      "text/plain": [
       "<matplotlib.figure.Figure at 0x405d37c940>"
      ]
     },
     "metadata": {},
     "output_type": "display_data"
    }
   ],
   "source": [
    "play(env, optimal_policy)"
   ]
  },
  {
   "cell_type": "code",
   "execution_count": null,
   "metadata": {},
   "outputs": [],
   "source": []
  }
 ],
 "metadata": {
  "kernelspec": {
   "display_name": "Python 3",
   "language": "python",
   "name": "python3"
  },
  "language_info": {
   "codemirror_mode": {
    "name": "ipython",
    "version": 3
   },
   "file_extension": ".py",
   "mimetype": "text/x-python",
   "name": "python",
   "nbconvert_exporter": "python",
   "pygments_lexer": "ipython3",
   "version": "3.5.2"
  }
 },
 "nbformat": 4,
 "nbformat_minor": 2
}
